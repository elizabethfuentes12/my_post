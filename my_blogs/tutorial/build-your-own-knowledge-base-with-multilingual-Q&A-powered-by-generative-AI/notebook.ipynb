{
 "cells": [
  {
   "cell_type": "code",
   "execution_count": 7,
   "id": "ecb858ce-72ec-4985-acd1-86def53b5cfc",
   "metadata": {
    "tags": []
   },
   "outputs": [],
   "source": [
    "import boto3\n",
    "\n",
    "kendra_client = boto3.client(\"kendra\")\n",
    "translate_client = boto3.client('translate')\n",
    "\n",
    "def QueryKendra(index_id,query): \n",
    "    response = kendra_client.retrieve(\n",
    "        QueryText = query,\n",
    "        IndexId = index_id)\n",
    "    return response"
   ]
  },
  {
   "cell_type": "code",
   "execution_count": 24,
   "id": "60ff0987-ba80-4ee5-b221-5b8efc34d94a",
   "metadata": {
    "tags": []
   },
   "outputs": [],
   "source": [
    "data_source_id = \"\""
   ]
  },
  {
   "cell_type": "code",
   "execution_count": 26,
   "id": "d7de276e-a226-421e-8846-ee041aa24849",
   "metadata": {
    "tags": []
   },
   "outputs": [],
   "source": [
    "response_data = kendra_client.describe_data_source(\n",
    "    Id=data_source_id,\n",
    "    IndexId = index_id\n",
    ")"
   ]
  },
  {
   "cell_type": "code",
   "execution_count": 33,
   "id": "cd8ac01b-bfcd-43a0-8c6b-1b3300fdd998",
   "metadata": {
    "tags": []
   },
   "outputs": [],
   "source": [
    "TargetLanguage = get_target_language_code(data_source_id,index_id)"
   ]
  },
  {
   "cell_type": "code",
   "execution_count": 32,
   "id": "d927f99e-00c5-4fe9-9bd5-71c303713fda",
   "metadata": {
    "tags": []
   },
   "outputs": [],
   "source": [
    "def get_target_language_code(data_source_id,index_id): \n",
    "    response_data_source = kendra_client.describe_data_source(\n",
    "        Id = data_source_id,\n",
    "        IndexId = index_id\n",
    "    )\n",
    "    return response_data_source['LanguageCode']"
   ]
  },
  {
   "cell_type": "code",
   "execution_count": 34,
   "id": "33989e3b-8a1a-436b-928a-6fbe82f46133",
   "metadata": {
    "tags": []
   },
   "outputs": [
    {
     "data": {
      "text/plain": [
       "'en'"
      ]
     },
     "execution_count": 34,
     "metadata": {},
     "output_type": "execute_result"
    }
   ],
   "source": [
    "TargetLanguage"
   ]
  },
  {
   "cell_type": "code",
   "execution_count": 6,
   "id": "703b67e8-e9c4-4d57-841d-104ed1abe149",
   "metadata": {
    "tags": []
   },
   "outputs": [],
   "source": [
    "def TranslateText(text,SourceLanguageCode,TargetLanguage):\n",
    "    response = translate_client.translate_text(\n",
    "    Text=text,\n",
    "    SourceLanguageCode=SourceLanguageCode,\n",
    "    TargetLanguageCode=TargetLanguage\n",
    ")\n",
    "    translated_text = response['TranslatedText']\n",
    "    source_language_code = response['SourceLanguageCode'] #you need SourceLanguageCode to answer in the original language\n",
    "    return translated_text, source_language_code"
   ]
  },
  {
   "cell_type": "code",
   "execution_count": 30,
   "id": "b94a474a-27d6-4367-ad8e-e1196e6d6d2f",
   "metadata": {
    "tags": []
   },
   "outputs": [
    {
     "name": "stdout",
     "output_type": "stream",
     "text": [
      "-------------------\n",
      "DocumentTitle: Introducción a Amazon S3 - Amazon Simple Storage Service\n",
      "Content:  Documentación de AWS Guía para desarrolladores de Amazon Simple Storage Service (S3) Descripción general de Amazon S3 y esta guíaVentajas de usar Amazon S3 Conceptos de Amazon S3 Características de Amazon S3 Interfaces de programación de aplicaciones (API) de Amazon S3 Pago de los servicios relacionados con Amazon S3 Introducción a Amazon S3 Esta introducción a Amazon Simple Storage Service (Amazon S3) proporciona un resumen detallado de este servicio web. Después de leer esta sección, deberías tener una buena idea de lo que ofrece y cómo puede encajar en tu negocio. Temas Descripción general de Amazon S3 y esta guía Ventajas de usar Amazon S3 Conceptos de Amazon S3 Amazon S3 presenta las interfaces de programación de aplicaciones (API) de Amazon S3 Pago de los servicios relacionados con Amazon S3 Descripción general de Después de leer esta sección, tendrá una buena idea de lo que ofrece y cómo puede adaptarse a su negocio. Temas Descripción general de Amazon S3 y esta guía Ventajas de usar Amazon S3 Conceptos de Amazon S3 Amazon S3 presenta las interfaces de programación de aplicaciones (API) de Amazon S3 Pago de los servicios relacionados de Amazon S3 Descripción general de Amazon S3 y esta guía Amazon S3 tiene una interfaz de servicios web sencilla que puede utilizar para almacenar y recuperar cualquier cantidad de datos, en cualquier momento y desde cualquier lugar de la web. En esta guía se describe cómo enviar solicitudes para crear depósitos, almacenar y recuperar los objetos y administrar los permisos de los recursos.\n",
      "Go deeper:  http://docs.aws.amazon.com/AmazonS3/latest/dev/Introduction.html\n",
      "-------------------\n",
      "DocumentTitle: Claves de condición, recursos y acciones para Amazon S3 - Amazon Simple Storage Service\n",
      "Content:  permiso para devolver el conjunto de etiquetas de un objeto Read object* s3:dataAccessPointAccount s3:dataAccessPointArn s3:AccesspointNetworkOrigin s3:existingObjectTag/ s3:authType <key>s3:signatureAge s3:signatureversion s3:x-amz-content-sha256 getObjectTorrent Concede permiso para devolver archivos torrent desde un bucket de Amazon S3 Read object* s3:authType s3:signatureversion s3:x-amz-content-sha256 getObjectVersion Otorga permiso para recuperar una versión específica de un objeto Objeto leído* s3:DataAccessPointAccount s3:DataAccessPointArn S3:AccessPointNetworkOrigin <key>s3:ExistingObjectTag/ <key>S3:authType S3:SignatureAge s3:Signatureversion s3:versionid s3 versión específica de un objeto Leído objeto* S3:DataAccessPointAccount S3:DataAccessPointArn S3:AccessPointNetworkOrigin S3:ExistingObjectTag/ <key>S3:authType S3:Signatureversion s3:versionid s3:x-amz-content-sha256 getObjectVersionACL Concede permiso para devolver la lista de control de acceso (ACL) de una versión de objeto específica Read object* s3:DataAccessPointAccount s3:DataAccessPointArn s3:AccessPointNetworkOrigin s3:ExistingObjectTag/ s3:authType s3: <key>SignatureAge s3:signatureversion s3:versionid s3:x-amz-content-sha256 getObjectVersionForReplication Concede permiso para replicar objetos no cifrados y objetos cifrados con SSE-S3 o SSE-KMS Objeto de lectura* s3:x-amz-content-sha256 getObjectVersionACL Concede permiso para devolver la lista de control de acceso (ACL) de una versión de objeto específica Leer objeto* s3:DataAccessPointAccount S3:DataAccessAccount S3:DataAccessAccount PointArn S3: AccessPoint Network Origin S3: etiqueta de objeto existent/ S3: AuthType S3: SignatureAge s3: versión de firma s3: id de versión s3:x-amz-content-sha256 getObjectVersionForReplication Concede permiso para replicar objetos no cifrados y objetos cifrados con SSE-S3 o SSE-KMS Read object* s3:authType S3:signatureAge s3:signatureversion s3:x-amz-content-sha256 getObjectVersionTagging Concede permiso para devolver el conjunto de etiquetas de una versión específica del objeto Read object* s3:DataAccessPointAccount s3:DataAccessPointArn s3\n",
      "Go deeper:  http://docs.aws.amazon.com/AmazonS3/latest/dev/list_amazons3.html\n",
      "-------------------\n",
      "DocumentTitle: Claves de condición, recursos y acciones para Amazon S3 - Amazon Simple Storage Service\n",
      "Content:  bucket Read bucket* s3:authType s3:SignatureAge s3:signatureversion s3:x-amz-content-sha256 listAccessPoints Concede permiso para enumerar los puntos de acceso Leer s3:authType s3:signatureversion s3:x-amz-content-sha256 listAllMyBuckets Concede permiso para enumerar todos los buckets propiedad del remitente autenticado de la solicitud Lista s3:authType s3:SignatureAge s3:signatureAge atureversion s3:x-amz-content-sha256 ListBucket Otorga permiso para enumerar algunos o todos los objetos de un bucket de Amazon S3 (hasta 1000) List bucket* s3:dataAccessPointAccount s3:dataAccessPointArn s3 :AccessPointNetworkOrigin S3:authType s3:delimiter s3:max-keys s3:prefijo s3:SignatureAge s3:signatureversion s3:x-amz-content-sha256 ListBucketMultipartUploads Otorga permiso para enumerar las cargas multiparte en curso Leer bucket* s3:dataAccesspointAccount s3:dataAccesspointArn S3:AccesspointOrigin s3:authType S3:SignatureAge s3:signatureAge version s3:x-amz-content-sha256 listBucketVersions Concede permiso para enumerar los metadatos de todas las versiones de los objetos de un bucket de Amazon S3 Read bucket* s3:DataAccessPointAccount S3:DataAccessPointArn s3: AccessPointNetworkOrigin S3:authType s3:delimiter s3:max-keys s3:prefix s3:SignatureAge s3:signatureversion s3:x-amz-content-sha256 ListJobs Concede permiso para enumerar los trabajos actuales y los que han finalizado recientemente Leer s3:authType S3:signatureAge s3:signatureversion s3:x-amz-content-sha256 ListMultipartUploadParts Concede permiso para enumerar las partes que tienen Amazon S3 bucket Read bucket* S3: DataAccesspoint Account S3: DataAccessPointArn S3: AccessPoint NetworkOrigin S3: authType s3:delimiter s3: max-keys s3: prefijo S3: SignatureAge s3: signatureAge s3:signatureversion s3:x-amz-content- sha256 ListJobs Concede permiso para enumerar los trabajos actuales y los que han finalizado recientemente Leer s3:AuthType S3:SignatureAge s3:signatureversion s3:x-amz-content-sha256 ListMultipartUploadParts Concede permiso para enumerar las partes que se han cargado para una carga multiparte específica Leer objeto* s3:DataAccessPointAccount s3:DataAccessPointArn S3:AccessPointNetworkOrigin s3:AuthType S3:SignatureAge 3:signatureversion s3:x-amz-content-sha256 ObjectOwnerOverrideToBuckeTowner Concede permiso para\n",
      "Go deeper:  http://docs.aws.amazon.com/AmazonS3/latest/dev/list_amazons3.html\n",
      "-------------------\n",
      "DocumentTitle: Claves de condición, recursos y acciones para Amazon S3 - Amazon Simple Storage Service\n",
      "Content:  Cubo de lectura habilitado o suspendido* s3:authType S3:SignatureAge s3:signatureversion s3:x-amz-content-sha256 getAccessPoint Concede permiso para devolver información de configuración sobre el punto de acceso especificado Leer s3:dataAccesspointAccount s3:dataAccesspointNetwork Origin s3:authType s3:signatureversion s3:x-amz-content-sha256 getAccesspointPolicy concede permiso a devuelve la política de puntos de acceso asociada al punto de acceso especificado Lea accesspoint* s3:dataAccessPointAccount s3:dataAccessPointArn s3: AccessPointNetworkOrigin S3:AuthType S3:SignatureAge s3:signatureversion s3:x-amz-content-sha256 getAccessPointPolicyStatus Concede permiso para devolver el estado de la política de un punto de acceso específico Policy:DataAccessPointNetworkOrigin s3:authType s3:signatureAge s3:signatureversion s3:x-amz-content-sha256 getAccessPointPolicy Concede permiso para devolver la política de puntos de acceso asociada a la punto de acceso especificado Lea el punto de acceso* s3:DataAccessPointAccount S3:DataAccessPointArn S3:AccessPointNetworkOrigin S3:AuthType S3:SignatureAge s3: signatureversion s3:x-amz-content-sha256 getAccesspointPolicyStatus Concede permiso para devolver el estado de la política de una política de puntos de acceso específica Leer accesspoint* s3:dataAccesspointAccount s3:DataAccessPointArn s3:AccesspointNetworkOrigin s3:authType S3:signatureAge s3:signatureversion s3:x-amz-content-sha256 getAccountPublicAccessBlock Concede permiso para recuperar la configuración de PublicAccessBlock para una lectura de AWS accesspoint* s3:DataAccesspoint Account S3: DataAccesspointArn S3: Accesspoint NetworkOrigin S3: authType S3: SignatureAge s3:versión de firma s3:x-amz -content-sha256 getAccountPublicAccessBlock concede permiso para recuperar la configuración de PublicAccessBlock de una cuenta de AWS Lea s3:authType s3:SignatureAge s3:signatureversion s3:x-amz-content-sha256 getAnalyticsConfiguration Concede permiso para obtener una configuración de análisis de un bucket de Amazon S3, identificado por el ID de configuración de análisis Read bucket* s3:authType S3:SignatureAge s3:signatureversion s3:signatureversion s3:x-amz-content-sha256 getBucketACL Otorga permiso para usar el subrecurso acl a fin de devolver la lista de control de acceso (ACL) de un bucket de Amazon S3\n",
      "Go deeper:  http://docs.aws.amazon.com/AmazonS3/latest/dev/list_amazons3.html\n",
      "-------------------\n",
      "DocumentTitle: Claves de condición, recursos y acciones para Amazon S3 - Amazon Simple Storage Service\n",
      "Content:  <key>:DataAccessPoint Account S3: DataAccessPoint Network Origin S3: ExistingObjectTag/ S3: <key>AuthType S3: SignatureAge s3: SignatureAge s3: ID de versión s3: x-amz-acl s3:x-amz-content-sha256 s3:x-amz-grant-full-control s3:x-amz-grant-read s3:x-amz-grant-read-acp s3:x-amz-grant-read-acp s3:x-amz-grant-read-acp s3:x-amz-grant-read-acp s3:x-amz-grant-read-acp s3:x-amz-grant-read-acp s3:x-amz-grant-read-acp s3:x-amz-grant-read-acp s3:x-amz-grant-read-acp s3:x-amz-grant-read-acp write s3:x-amz-grant-write-acp s3:x-amz-storage-class putObjectVersionTagging Otorga permiso para configurar el conjunto de etiquetas suministrado para una versión específica de un objeto Etiquetar objeto* s3:DataAccessPointAccount s3:DataAccessPointArn s3:AccessPointNetworkOrigin s3:ExistingObjectTag/ s3: RequestObjectTag/ S3<key>: RequestObjectTagKeys S3: AuthType S3: SignatureAge s3: ID de versión s3: S3:DataAccessPointNetwork Origin S3: ExistingObjectTag/ S3: RequestObjectTag/ S3: RequestObjectTag/ S3: <key><key>RequestObjectTagKeys S3: authType S3: SignatureAge s3: SignatureAge s3:versionid s3:x-amz-content-sha256 putReplicationConfiguration Concede permiso para crear una nueva configuración de replicación o reemplazar una existente Write bucket* s3:authType s3:SignatureAge s3:signatureversion s3:x-amz-content-sha256 replicateDelete concede permiso a replicar marcadores de eliminación en el depósito de destino Escribir objeto* s3:AuthType s3:SignatureAge s3:signatureversion s3:x-amz-content-sha256 replicateObject Concede permiso para replicar objetos y etiquetas de objetos en el depósito de destino Escribir objeto* s3:authType s3:signatureAge s3:signatureversion s3:x-amz-server-side-encryption-aws-kms-key-id replicateTags Otorga permiso para replicar etiquetas de objetos en el bucket de destino Etiquetar objeto* s3:authType s3:signatureAge s3:signatureversion s3:x-amz-content-sha256 RestoreObject concede permiso para restaurar una copia archivada de un objeto en Amazon S3 Write object* s3:DataAccessPointAccount S3:DataAccessPointArn S3:AccessPointNetworkOrigin S3:authType S3:SignatureAge s3:signatureversion s3:x-amz-content-sha256 UpdateJobPriority Concede permiso para actualizar la prioridad de un trabajo existente Escribe job* s3:authType s3:SignatureAge s3:signatureversion 3:x-amz-content-sha256 S3: Solicitar prioridad de trabajo S3: prioridad de trabajo existente\n",
      "Go deeper:  http://docs.aws.amazon.com/AmazonS3/latest/dev/list_amazons3.html\n",
      "-------------------\n",
      "DocumentTitle: Claves de condición, recursos y acciones para Amazon S3 - Amazon Simple Storage Service\n",
      "Content:  :x-amz-content-sha256 s3:RequestJobPriority s3:RequestJobOperation aws:TagKeys aws:requestTag/$ {tagKey} deleteAccessPoint Concede permiso para eliminar el punto de acceso nombrado en el URI Write accesspoint* s3:dataAccesspointAccount s3:AccesspointAccount s3:AccesspointNetworkOrigin s3:authType S3:SignatureAge s3:signatureversion s3:x-amz-contat ent-sha256 DeleteAccessPointPolicy Otorga permiso para eliminar la política en un punto de acceso especificado Punto de acceso de administración de permisos* s3:DataAccessPointArn S3:DataAccessPointAccount S3:AccesspointNetworkOrigin S3:authType s3: SignatureAge s3:signatureversion s3:x-amz-content-sha256 DeleteBucket Concede permiso para eliminar el bucket nombrado en el URI Write bucket* s3:authType S3:DataAccessPointAccount s3:AccesspointNetworkOrigin s3:authType S3:signatureAge s3:signatureversion s3:x-amz-content-sha256 DeleteAccesspointPolicy Otorga permiso para eliminar la política en un punto de acceso especificado* 3:DataAccessPointArn S3: DataAccessPoint Account S3: AccessPoint NetworkOrigin S3: AuthType S3: SignatureAge s3: signatureAge s3:x-amz-content-sha256 DeleteBucket Otorga permiso para eliminar el bucket denominado en el URI Write bucket* s3:authType s3:SignatureAge s3:signatureversion s3:x-amz-content-sha256 deleteBucketPolicy Concede permiso para eliminar la política en un bucket especificado* s3:authType s3:signatureAge s3:signatureversion s3:x-amz-content-sha256 deleteBucketWebsite Concede permiso para eliminar la configuración del sitio web de un bucket Escriba bucket* s3:authType s3:SignatureAge s3:signatureversion s3:x-amz-content-sha256 deleteJobTagging Otorga permiso para eliminar etiquetas de un archivo existente Trabajo de etiquetado de Amazon S3 Batch Operation* s3:AuthType S3:SignatureAge s3:signatureversion s3:x-amz-content-sha256 s3:ExistingJobPriority S3:ExistingJobOperation DeleteObject Concede permiso para eliminar la versión nula de un objeto\n",
      "Go deeper:  http://docs.aws.amazon.com/AmazonS3/latest/dev/list_amazons3.html\n",
      "-------------------\n",
      "DocumentTitle: Claves de condición, recursos y acciones para Amazon S3 - Amazon Simple Storage Service\n",
      "Content:  cambiar la propiedad de la réplica Objeto de gestión de permisos* s3:authType s3:signatureAge s3:signatureversion s3:x-amz-content-sha256 putAccelerateConfiguration Concede permiso para usar el subrecurso de aceleración para establecer el estado de aceleración de transferencia de un bucket de S3 existente Escribe bucket* s3:authType s3:signatureAge s3:signatureversion s3:x-amz-content-sha256 putAccesspointPolicy concede permiso para asociar una política de acceso a un punto de acceso especificado Punto de acceso de gestión de permisos* S3:DataAccessPointAccount S3:DataAccessPointArn S3:AccessPointNetworkOrigin s3 :authType S3:SignatureAge s3:signatureversion s3:x-amz-content-sha256 PutAccountPublicAccessBlock Otorga permiso para crear o modificar la configuración de PublicAccessBlock para una cuenta de AWS Permissions DataAccessPointAccount S3:DataAccessPointNetworkOrigin s3:authType S3:signatureversion s3:x-amz-content-sha256 putAccountPublicAccessBlock Otorga permiso para crear o modificar la configuración de PublicAccessBlock para una cuenta de AWS Permissions management s3:authType S3:SignatureAge s3:signatureversion s3:x-amz-content-sha256 PutAnalyticsConfiguration Concede permiso para establecer una configuración de análisis para el bucket, especificada por el ID de configuración de análisis Write bucket* s3:authType s3:signatureAge s3:signatureversion s3:x-amz-content-sha256 putBucketACL Concede permiso para configurar los permisos en un bucket existente mediante listas de control de acceso (ACL) Cubo de administración de permisos* s3:authType s3 management s3:authType s3:signatureAge atureversion s3:x-amz-content-sha256 putAnalyticsConfiguration Concede permiso para establecer una configuración de análisis para el bucket, especificada por el ID de configuración de análisis Write bucket* s3:authType S3:SignatureAge s3:signatureversion s3:x-amz-content-sha256 putBucketACL Concede permiso para establecer los permisos en un bucket existente mediante listas de control de acceso (ACL) Cubo de gestión de permisos* s3:authType s3:signatureAge s3:signatureversion s3:x-amz-acl s3:x-amz-content-sha256 s3:x-amz-grant-full-control s3:x-amz-grant-read s3:x-amz-grant-read-acp s3:x-amz-grant-write s3:x-amz-grant-write-acp putbucketCORS Concede permiso para establecer la configuración de CORS para\n",
      "Go deeper:  http://docs.aws.amazon.com/AmazonS3/latest/dev/list_amazons3.html\n",
      "-------------------\n",
      "DocumentTitle: Claves de condición, recursos y acciones para Amazon S3 - Amazon Simple Storage Service\n",
      "Content:  <key>DataAccessPointAccount S3:DataAccessPointArn S3:AccessPointNetworkOrigin S3:ExistingObjectTag/ S3:authType <key>S3:SignatureAge s3:signatureversion s3:x-amz-content-sha256 getObjectACL Otorga permiso para devolver la lista de control de acceso (ACL) de un objeto Objeto leído* S3:DataAccessPointAccount S3:DataAccessPointArn S3:AccessPointOrigin S3:AccessPointOrigin S3:AccessPointOrigin S3:AccessPointOrigin S3:AccessPointOrigin S3:AccessPointOrigin S3:AccessPointOrigin S3:AccesspointAccount S3:AccessPointAccount S3:AccesspointArn S3:Accesspointtag/ s3:authType s3:SignatureAge s3:signatureversion s3:x-amz-content-sha256 getObjectLegalHold Otorga permiso para obtener el estado de retención legal actual de un objeto Objeto leído* s3:DataAccessPointAccount s3: DataAccessPointArn S3: AccessPointNetworkOrigin S3: AuthType S3: SignatureAge s3:signatureversion s3:x-amz-content-sha256 GetObjectRetention (ACL) de un objeto Leer objeto* S3: DataAccessPointArn S3: AccesspointNetworkOrigin S3: ExistingObjectTag/ S3:authType S3: SignatureAge s3:signatureversion <key>s3:x-amz-content-sha256 getObjectLegalHold Otorga permiso para obtener el estado de retención legal actual de un objeto Leído objeto* s3:dataAccessPointAccount s3:dataAccessPointArn s3:AccesspointNetworkOrigin s3:authType s3:SignatureAge s3:signatureversion s3:x- amz-content-sha256 getObjectRetention concede permiso para recuperar la configuración de retención de un objeto Read object* s3:dataAccesspointAccount s3:dataAccesspointArn s3:AccesspointNetworkOrigin s3:authType S3:SignatureAge s3:signatureversion s3:x-amz-content-sha256 getObjectTagging Concede permiso para recuperar la configuración de retención de un objeto Leer objeto* s3:dataAccesspointAccount s3:dataAccessPointArn S3:AccessPointNetworkOrigin S3:authType S3:SignatureAge s3:signatureversion s3:x-amz-content-sha256 getObjectTagging Concede permiso para devolver la etiqueta conjunto de un objeto Read object* s3:dataAccessPointAccount s3:dataAccessPointArn s3:AccesspointNetworkOrigin s3:existingObjectTag/ <key>s3:authType S3:signatureversion s3:x-amz-content-sha256 getObjectTorrent concede permiso para devolver archivos torrent desde un bucket de Amazon S3 Leer objeto* s3:authType S3:signatureAge s3:signatureversion s3:signatureversion s3:x-amz-content-sha256 getObjectVersion Otorga permiso para recuperar un\n",
      "Go deeper:  http://docs.aws.amazon.com/AmazonS3/latest/dev/list_amazons3.html\n",
      "-------------------\n",
      "DocumentTitle: Claves de condición, recursos y acciones para Amazon S3 - Amazon Simple Storage Service\n",
      "Content:  s3:DataAccessPointAccount S3:DataAccessPointArn S3:AccessPointNetworkOrigin S3:authType S3:SignatureAge s3:signatureversion s3:x-amz-content-sha256 ListBucketVersions Concede permiso para enumerar los metadatos de todas las versiones de los objetos de un bucket de Amazon S3 Leer bucket* s3:DataAccesspointAccount S3:DataAccessPointArn S3:AccessPointNetworkOrigin S3:authType s3:delimiter s3:max-keys s3:prefix s3:SignatureAge s3:signatureversion s3:x-amz-content-sha256 listJobs Otorga permiso para enumerar los trabajos actuales y los trabajos que han finalizado recientemente Leer s3:authType s3:SignatureAge s3:signatureversion s3:x-amz-content-sha256 listMultipartUploadParts Concede permiso para publicar las partes que tienen un bucket de Amazon S3 Read bucket* s3:dataAccesspointAccount s3:dataAccesspointNetworkOrigin s3:authType s3:delimiter s3:max-keys s3:prefix s3:signatureAge s3:signatureversion s3:x-amz-content-sha256 ListJobs Grants permission para enumerar los trabajos actuales y los trabajos que finalizaron recientemente Lea s3:authType s3:SignatureAge s3:signatureversion s3:x-amz-content-sha256 ListMultipartUploadParts Concede permiso para enumerar las piezas que han sido subido para una carga multiparte específica Read object* s3:dataAccesspointAccount s3:dataAccessPointArn s3:AccesspointNetworkOrigin s3:authType S3:signatureAge s3:signatureversion s3:x-amz-content-sha256 objectOwnerOverrideToBucketowner Concede permiso para subir una carga multiparte específica Leer objeto* s3:DataAccesspointAccount s3:DataAccessPointArn S3:AccesspointAccount s3:DataAccessPointArn S3:AccessPointArn S3:AccesspointAccount s3:DataAccessPointArn S3:AccessPointArn S3:AccessPointArn S3:AccesspointAccount s3:DataAccessPointArn S3:AccessPointArn S3:AccesspointOrigin S3:authType S3:SignatureAge s3:signatureversion s3:x-amz-content-sha256 ObjectOwnerOverrideToBuckeTowner Concede permiso para cambiar la propiedad de la réplica Gestión de permisos object* s3:authType s3:SignatureAge s3:signatureversion s3:x-amz-content-sha256 putAccelerateConfiguration Concede permiso para usar el subrecurso de aceleración de transferencia para establecer el estado de aceleración de transferencia de un bucket de S3 existente* s3:authType s3:signatureAge s3:signatureversion s3:x-amz-content-sha256 putAccessPointPolicy Otorga permiso para asociar una política de acceso a un punto de acceso especificado Permisos punto de acceso de administración* s3:\n",
      "Go deeper:  http://docs.aws.amazon.com/AmazonS3/latest/dev/list_amazons3.html\n",
      "-------------------\n",
      "DocumentTitle: Claves de condición, recursos y acciones para Amazon S3 - Amazon Simple Storage Service\n",
      "Content:  <key>versión específica de un objeto Read object* s3:dataAccessPointAccount s3:dataAccessPointArn s3:AccesspointNetworkOrigin s3:existingObjectTag/ s3:authType s3:signatureAge s3:signatureversion s3:versionid s3:x-amz-content-sha256 getObjectVersionACL Concede permiso para devolver la lista de control de acceso (ACL) de una versión de objeto específica Leer objeto* s3:dataAccesspointAccount S3:dataAccessPointAccount S3:dataAccessPointAccount S3:3:DataAccessPointArn S3: AccessPoint Network Origin S3: ExistingObjectTag/ <key>S3: AuthType S3: SignatureAge s3:version de firma s3:versionid s3:x-amz-content-sha256 GetObjectVersion for Replication Otorga permiso para replicar objetos no cifrados y objetos cifrados con SSE-S3 o SSE-KMS Read object* s3:x-amz-content-sha256 getObjectVersionACL Concede permiso para devolver la lista de control de acceso (ACL) de una versión de objeto específica Objeto leído* s3:DataAccessPointAccount s3:SignatureAge s3:AccessPointNetworkOrigin s3:ExistingObjectTag/ <key>S3:authType s3:SignatureAge s3:SignatureAge atureversion s3:versionid s3:x-amz-content-sha256 getObjectVersionForReplication Concede permiso para replicar objetos no cifrados y objetos cifrados con SSE-S3 o <key>SSE-KMS Read object* S3:authType S3:SignatureAge s3:signatureversion s3:x-amz-content-sha256 getObjectVersionTagging Concede permiso para devolver el conjunto de etiquetas para una versión específica del objeto Read object* s3:dataAccesspointAccount s3:dataAccessPointArn S3:authType S3:signatureAge s3:signatureversion s3:x-amz-content-sha256 getObjectVersionTagging Ging Concede permiso para devolver el conjunto de etiquetas para una versión específica del objeto Read object* s3:DataAccessPointAccount s3:DataAccessPointArn s3:AccessPointNetworkOrigin s3:ExistingObjectTag/ s3:authType s3: SignatureAge s3:signatureversion s3:versionid s3:x-amz-content-sha256 getObjectVersionTorrent Concede permiso para obtener archivos Torrent sobre una versión diferente mediante el subrecurso VersionID Read object* s3:authType S3:signatureAge s3:signatureversion s3:versionid s3:versionid s3:x-amz-content-sha256 getReplicationConfiguration Concede permiso para obtener la información de configuración de replicación establecida en un Amazon S3\n",
      "Go deeper:  http://docs.aws.amazon.com/AmazonS3/latest/dev/list_amazons3.html\n"
     ]
    }
   ],
   "source": [
    "text = \"¿que es Amazon S3?\"\n",
    "index_id = \"\"\n",
    "\n",
    "query,source_language_code = TranslateText(text,\"auto\",TargetLanguage)\n",
    "response = QueryKendra(index_id,query)\n",
    "\n",
    "#print the result\n",
    "\n",
    "for query_result in response[\"ResultItems\"]:\n",
    "    print(\"-------------------\")\n",
    "    document_title = query_result['DocumentTitle']\n",
    "    document_title_translated,language = TranslateText(document_title,TargetLanguage,source_language_code)\n",
    "    print(\"DocumentTitle: \" + document_title_translated)\n",
    "    document_content = query_result['Content']\n",
    "    document_content_translated,language = TranslateText(document_content,TargetLanguage,source_language_code)\n",
    "    print(\"Content: \",document_content_translated)\n",
    "    print(\"Go deeper: \", query_result['DocumentURI']) \n"
   ]
  },
  {
   "cell_type": "code",
   "execution_count": 10,
   "id": "08aa5ae0-414e-4345-b42a-0c99d0791db0",
   "metadata": {
    "tags": []
   },
   "outputs": [],
   "source": [
    "import json\n",
    "newline, bold, unbold = \"\\n\", \"\\033[1m\", \"\\033[0m\"\n",
    "num_return_sequences = 3\n",
    "parameters = {\n",
    "    \"max_length\": 50,\n",
    "    \"max_time\": 50,\n",
    "    \"num_return_sequences\": num_return_sequences,\n",
    "    \"top_k\": 50,\n",
    "    \"top_p\": 0.95,\n",
    "    \"do_sample\": True,\n",
    "}"
   ]
  },
  {
   "cell_type": "code",
   "execution_count": 15,
   "id": "08019ff2-a92f-4c83-bf0b-5c83cd062aaa",
   "metadata": {
    "tags": []
   },
   "outputs": [],
   "source": [
    "endpoint_name = 'jumpstart-example-huggingface-text2text-2023-08-09-21-40-22-962'"
   ]
  },
  {
   "cell_type": "code",
   "execution_count": 11,
   "id": "99dd62bf-beff-4bcb-9204-04ac4f65c1ea",
   "metadata": {
    "tags": []
   },
   "outputs": [],
   "source": [
    "def query_endpoint_with_json_payload(encoded_json, endpoint_name):\n",
    "    client = boto3.client(\"runtime.sagemaker\")\n",
    "    response = client.invoke_endpoint(\n",
    "        EndpointName=endpoint_name, ContentType=\"application/json\", Body=encoded_json\n",
    "    )\n",
    "    return response"
   ]
  },
  {
   "cell_type": "code",
   "execution_count": 12,
   "id": "6019c501-89e5-454e-b352-8802b4c89632",
   "metadata": {
    "tags": []
   },
   "outputs": [],
   "source": [
    "def parse_response_multiple_texts(query_response):\n",
    "    model_predictions = json.loads(query_response[\"Body\"].read())\n",
    "    generated_text = model_predictions[\"generated_texts\"]\n",
    "    return generated_text"
   ]
  },
  {
   "cell_type": "code",
   "execution_count": 17,
   "id": "ebe5647c-1ce2-4689-a0b2-3933b266a454",
   "metadata": {
    "tags": []
   },
   "outputs": [],
   "source": [
    "def summarization(text,query):\n",
    "    \n",
    "    payload = {\"text_inputs\": f\"{text}\\n\\nBased on the above article, answer a question. {query}\", **parameters}\n",
    "    query_response = query_endpoint_with_json_payload(\n",
    "            json.dumps(payload).encode(\"utf-8\"), endpoint_name=endpoint_name\n",
    "        )\n",
    "\n",
    "    generated_texts = parse_response_multiple_texts(query_response)\n",
    "\n",
    "    print(f\"{bold} The {num_return_sequences} summarized results are{unbold}:{newline}\")\n",
    "\n",
    "    for idx, each_generated_text in enumerate(generated_texts):\n",
    "        #Translate the answer to the original language of the question\n",
    "        answer_text_translated,language = TranslateText(each_generated_text,TargetLanguage,source_language_code)\n",
    "\n",
    "        print(f\"{bold}Result {idx}{unbold}: {answer_text_translated}{newline}\")  \n",
    "\n",
    "    return"
   ]
  },
  {
   "cell_type": "code",
   "execution_count": 23,
   "id": "91575c9b-f86e-46f8-bf5e-5bbea64d3805",
   "metadata": {
    "tags": []
   },
   "outputs": [
    {
     "name": "stdout",
     "output_type": "stream",
     "text": [
      "-------------------\n",
      "DocumentTitle: Introducción a Amazon S3 - Amazon Simple Storage Service\n",
      "Go deeper:  http://docs.aws.amazon.com/AmazonS3/latest/dev/Introduction.html\n",
      "\u001b[1m The 3 summarized results are\u001b[0m:\n",
      "\n",
      "\u001b[1mResult 0\u001b[0m: un servicio web que puede utilizar para almacenar y recuperar cualquier cantidad de datos, en cualquier momento y desde cualquier lugar de la web\n",
      "\n",
      "\u001b[1mResult 1\u001b[0m: d).\n",
      "\n",
      "\u001b[1mResult 2\u001b[0m: (iv).\n",
      "\n",
      "-------------------\n",
      "DocumentTitle: Claves de condición, recursos y acciones para Amazon S3 - Amazon Simple Storage Service\n",
      "Go deeper:  http://docs.aws.amazon.com/AmazonS3/latest/dev/list_amazons3.html\n",
      "\u001b[1m The 3 summarized results are\u001b[0m:\n",
      "\n",
      "\u001b[1mResult 0\u001b[0m: S3 es un servicio de almacenamiento en la nube que permite a los usuarios almacenar, recuperar y administrar archivos.\n",
      "\n",
      "\u001b[1mResult 1\u001b[0m: Servicio de almacenamiento\n",
      "\n",
      "\u001b[1mResult 2\u001b[0m: S3 es un servicio de almacenamiento que permite a los usuarios almacenar, recuperar y administrar archivos y carpetas en la nube.\n",
      "\n",
      "-------------------\n",
      "DocumentTitle: Claves de condición, recursos y acciones para Amazon S3 - Amazon Simple Storage Service\n",
      "Go deeper:  http://docs.aws.amazon.com/AmazonS3/latest/dev/list_amazons3.html\n",
      "\u001b[1m The 3 summarized results are\u001b[0m:\n",
      "\n",
      "\u001b[1mResult 0\u001b[0m: Servicio de almacenamiento\n",
      "\n",
      "\u001b[1mResult 1\u001b[0m: un servicio de almacenamiento en la nube\n",
      "\n",
      "\u001b[1mResult 2\u001b[0m: Almacenamiento para aplicaciones de terceros\n",
      "\n",
      "-------------------\n",
      "DocumentTitle: Claves de condición, recursos y acciones para Amazon S3 - Amazon Simple Storage Service\n",
      "Go deeper:  http://docs.aws.amazon.com/AmazonS3/latest/dev/list_amazons3.html\n",
      "\u001b[1m The 3 summarized results are\u001b[0m:\n",
      "\n",
      "\u001b[1mResult 0\u001b[0m: Almacenamiento para aplicaciones de terceros\n",
      "\n",
      "\u001b[1mResult 1\u001b[0m: Almacenamiento\n",
      "\n",
      "\u001b[1mResult 2\u001b[0m: Almacenamiento\n",
      "\n",
      "-------------------\n",
      "DocumentTitle: Claves de condición, recursos y acciones para Amazon S3 - Amazon Simple Storage Service\n",
      "Go deeper:  http://docs.aws.amazon.com/AmazonS3/latest/dev/list_amazons3.html\n",
      "\u001b[1m The 3 summarized results are\u001b[0m:\n",
      "\n",
      "\u001b[1mResult 0\u001b[0m: Servicio de almacenamiento\n",
      "\n",
      "\u001b[1mResult 1\u001b[0m: Servicio de almacenamiento\n",
      "\n",
      "\u001b[1mResult 2\u001b[0m: Servicio de almacenamiento\n",
      "\n",
      "-------------------\n",
      "DocumentTitle: Claves de condición, recursos y acciones para Amazon S3 - Amazon Simple Storage Service\n",
      "Go deeper:  http://docs.aws.amazon.com/AmazonS3/latest/dev/list_amazons3.html\n",
      "\u001b[1m The 3 summarized results are\u001b[0m:\n",
      "\n",
      "\u001b[1mResult 0\u001b[0m: Servicio de almacenamiento\n",
      "\n",
      "\u001b[1mResult 1\u001b[0m: Almacenamiento para aplicaciones de terceros\n",
      "\n",
      "\u001b[1mResult 2\u001b[0m: Servicio de almacenamiento\n",
      "\n",
      "-------------------\n",
      "DocumentTitle: Claves de condición, recursos y acciones para Amazon S3 - Amazon Simple Storage Service\n",
      "Go deeper:  http://docs.aws.amazon.com/AmazonS3/latest/dev/list_amazons3.html\n",
      "\u001b[1m The 3 summarized results are\u001b[0m:\n",
      "\n",
      "\u001b[1mResult 0\u001b[0m: Servicio de almacenamiento\n",
      "\n",
      "\u001b[1mResult 1\u001b[0m: Servicio de almacenamiento\n",
      "\n",
      "\u001b[1mResult 2\u001b[0m: Servicio de almacenamiento\n",
      "\n",
      "-------------------\n",
      "DocumentTitle: Claves de condición, recursos y acciones para Amazon S3 - Amazon Simple Storage Service\n",
      "Go deeper:  http://docs.aws.amazon.com/AmazonS3/latest/dev/list_amazons3.html\n",
      "\u001b[1m The 3 summarized results are\u001b[0m:\n",
      "\n",
      "\u001b[1mResult 0\u001b[0m: S3 es un servicio de almacenamiento en la nube pública que permite a los usuarios almacenar, recuperar y compartir archivos.\n",
      "\n",
      "\u001b[1mResult 1\u001b[0m: Servicio de almacenamiento\n",
      "\n",
      "\u001b[1mResult 2\u001b[0m: Servicio de almacenamiento\n",
      "\n",
      "-------------------\n",
      "DocumentTitle: Claves de condición, recursos y acciones para Amazon S3 - Amazon Simple Storage Service\n",
      "Go deeper:  http://docs.aws.amazon.com/AmazonS3/latest/dev/list_amazons3.html\n",
      "\u001b[1m The 3 summarized results are\u001b[0m:\n",
      "\n",
      "\u001b[1mResult 0\u001b[0m: Servicio de almacenamiento\n",
      "\n",
      "\u001b[1mResult 1\u001b[0m: Servicio de almacenamiento\n",
      "\n",
      "\u001b[1mResult 2\u001b[0m: Servicio de almacenamiento\n",
      "\n",
      "-------------------\n",
      "DocumentTitle: Claves de condición, recursos y acciones para Amazon S3 - Amazon Simple Storage Service\n",
      "Go deeper:  http://docs.aws.amazon.com/AmazonS3/latest/dev/list_amazons3.html\n",
      "\u001b[1m The 3 summarized results are\u001b[0m:\n",
      "\n",
      "\u001b[1mResult 0\u001b[0m: Servicio de almacenamiento\n",
      "\n",
      "\u001b[1mResult 1\u001b[0m: Servicio de almacenamiento\n",
      "\n",
      "\u001b[1mResult 2\u001b[0m: Servicio de almacenamiento\n",
      "\n"
     ]
    }
   ],
   "source": [
    "text = \"¿que es Amazon s3?\"\n",
    "target_language_code = \"en\" #English language code\n",
    "query,source_language_code = TranslateText(text,\"auto\",target_language_code)\n",
    "response = QueryKendra(index_id,query)\n",
    "\n",
    "for query_result in response[\"ResultItems\"]:\n",
    "    print(\"-------------------\")\n",
    "    document_title = query_result['DocumentTitle']\n",
    "    document_title_translated,language = TranslateText(document_title,TargetLanguage,source_language_code)\n",
    "    print(\"DocumentTitle: \" + document_title_translated)\n",
    "    document_content = query_result['Content']\n",
    "    document_content_translated,language = TranslateText(document_content,TargetLanguage,source_language_code)\n",
    "    print(\"Go deeper: \", query_result['DocumentURI'])\n",
    "    summarization(document_content,query)\n"
   ]
  },
  {
   "cell_type": "code",
   "execution_count": null,
   "id": "20edfa0f-1438-44fa-8efc-517b953b9203",
   "metadata": {},
   "outputs": [],
   "source": []
  }
 ],
 "metadata": {
  "availableInstances": [
   {
    "_defaultOrder": 0,
    "_isFastLaunch": true,
    "category": "General purpose",
    "gpuNum": 0,
    "hideHardwareSpecs": false,
    "memoryGiB": 4,
    "name": "ml.t3.medium",
    "vcpuNum": 2
   },
   {
    "_defaultOrder": 1,
    "_isFastLaunch": false,
    "category": "General purpose",
    "gpuNum": 0,
    "hideHardwareSpecs": false,
    "memoryGiB": 8,
    "name": "ml.t3.large",
    "vcpuNum": 2
   },
   {
    "_defaultOrder": 2,
    "_isFastLaunch": false,
    "category": "General purpose",
    "gpuNum": 0,
    "hideHardwareSpecs": false,
    "memoryGiB": 16,
    "name": "ml.t3.xlarge",
    "vcpuNum": 4
   },
   {
    "_defaultOrder": 3,
    "_isFastLaunch": false,
    "category": "General purpose",
    "gpuNum": 0,
    "hideHardwareSpecs": false,
    "memoryGiB": 32,
    "name": "ml.t3.2xlarge",
    "vcpuNum": 8
   },
   {
    "_defaultOrder": 4,
    "_isFastLaunch": true,
    "category": "General purpose",
    "gpuNum": 0,
    "hideHardwareSpecs": false,
    "memoryGiB": 8,
    "name": "ml.m5.large",
    "vcpuNum": 2
   },
   {
    "_defaultOrder": 5,
    "_isFastLaunch": false,
    "category": "General purpose",
    "gpuNum": 0,
    "hideHardwareSpecs": false,
    "memoryGiB": 16,
    "name": "ml.m5.xlarge",
    "vcpuNum": 4
   },
   {
    "_defaultOrder": 6,
    "_isFastLaunch": false,
    "category": "General purpose",
    "gpuNum": 0,
    "hideHardwareSpecs": false,
    "memoryGiB": 32,
    "name": "ml.m5.2xlarge",
    "vcpuNum": 8
   },
   {
    "_defaultOrder": 7,
    "_isFastLaunch": false,
    "category": "General purpose",
    "gpuNum": 0,
    "hideHardwareSpecs": false,
    "memoryGiB": 64,
    "name": "ml.m5.4xlarge",
    "vcpuNum": 16
   },
   {
    "_defaultOrder": 8,
    "_isFastLaunch": false,
    "category": "General purpose",
    "gpuNum": 0,
    "hideHardwareSpecs": false,
    "memoryGiB": 128,
    "name": "ml.m5.8xlarge",
    "vcpuNum": 32
   },
   {
    "_defaultOrder": 9,
    "_isFastLaunch": false,
    "category": "General purpose",
    "gpuNum": 0,
    "hideHardwareSpecs": false,
    "memoryGiB": 192,
    "name": "ml.m5.12xlarge",
    "vcpuNum": 48
   },
   {
    "_defaultOrder": 10,
    "_isFastLaunch": false,
    "category": "General purpose",
    "gpuNum": 0,
    "hideHardwareSpecs": false,
    "memoryGiB": 256,
    "name": "ml.m5.16xlarge",
    "vcpuNum": 64
   },
   {
    "_defaultOrder": 11,
    "_isFastLaunch": false,
    "category": "General purpose",
    "gpuNum": 0,
    "hideHardwareSpecs": false,
    "memoryGiB": 384,
    "name": "ml.m5.24xlarge",
    "vcpuNum": 96
   },
   {
    "_defaultOrder": 12,
    "_isFastLaunch": false,
    "category": "General purpose",
    "gpuNum": 0,
    "hideHardwareSpecs": false,
    "memoryGiB": 8,
    "name": "ml.m5d.large",
    "vcpuNum": 2
   },
   {
    "_defaultOrder": 13,
    "_isFastLaunch": false,
    "category": "General purpose",
    "gpuNum": 0,
    "hideHardwareSpecs": false,
    "memoryGiB": 16,
    "name": "ml.m5d.xlarge",
    "vcpuNum": 4
   },
   {
    "_defaultOrder": 14,
    "_isFastLaunch": false,
    "category": "General purpose",
    "gpuNum": 0,
    "hideHardwareSpecs": false,
    "memoryGiB": 32,
    "name": "ml.m5d.2xlarge",
    "vcpuNum": 8
   },
   {
    "_defaultOrder": 15,
    "_isFastLaunch": false,
    "category": "General purpose",
    "gpuNum": 0,
    "hideHardwareSpecs": false,
    "memoryGiB": 64,
    "name": "ml.m5d.4xlarge",
    "vcpuNum": 16
   },
   {
    "_defaultOrder": 16,
    "_isFastLaunch": false,
    "category": "General purpose",
    "gpuNum": 0,
    "hideHardwareSpecs": false,
    "memoryGiB": 128,
    "name": "ml.m5d.8xlarge",
    "vcpuNum": 32
   },
   {
    "_defaultOrder": 17,
    "_isFastLaunch": false,
    "category": "General purpose",
    "gpuNum": 0,
    "hideHardwareSpecs": false,
    "memoryGiB": 192,
    "name": "ml.m5d.12xlarge",
    "vcpuNum": 48
   },
   {
    "_defaultOrder": 18,
    "_isFastLaunch": false,
    "category": "General purpose",
    "gpuNum": 0,
    "hideHardwareSpecs": false,
    "memoryGiB": 256,
    "name": "ml.m5d.16xlarge",
    "vcpuNum": 64
   },
   {
    "_defaultOrder": 19,
    "_isFastLaunch": false,
    "category": "General purpose",
    "gpuNum": 0,
    "hideHardwareSpecs": false,
    "memoryGiB": 384,
    "name": "ml.m5d.24xlarge",
    "vcpuNum": 96
   },
   {
    "_defaultOrder": 20,
    "_isFastLaunch": false,
    "category": "General purpose",
    "gpuNum": 0,
    "hideHardwareSpecs": true,
    "memoryGiB": 0,
    "name": "ml.geospatial.interactive",
    "supportedImageNames": [
     "sagemaker-geospatial-v1-0"
    ],
    "vcpuNum": 0
   },
   {
    "_defaultOrder": 21,
    "_isFastLaunch": true,
    "category": "Compute optimized",
    "gpuNum": 0,
    "hideHardwareSpecs": false,
    "memoryGiB": 4,
    "name": "ml.c5.large",
    "vcpuNum": 2
   },
   {
    "_defaultOrder": 22,
    "_isFastLaunch": false,
    "category": "Compute optimized",
    "gpuNum": 0,
    "hideHardwareSpecs": false,
    "memoryGiB": 8,
    "name": "ml.c5.xlarge",
    "vcpuNum": 4
   },
   {
    "_defaultOrder": 23,
    "_isFastLaunch": false,
    "category": "Compute optimized",
    "gpuNum": 0,
    "hideHardwareSpecs": false,
    "memoryGiB": 16,
    "name": "ml.c5.2xlarge",
    "vcpuNum": 8
   },
   {
    "_defaultOrder": 24,
    "_isFastLaunch": false,
    "category": "Compute optimized",
    "gpuNum": 0,
    "hideHardwareSpecs": false,
    "memoryGiB": 32,
    "name": "ml.c5.4xlarge",
    "vcpuNum": 16
   },
   {
    "_defaultOrder": 25,
    "_isFastLaunch": false,
    "category": "Compute optimized",
    "gpuNum": 0,
    "hideHardwareSpecs": false,
    "memoryGiB": 72,
    "name": "ml.c5.9xlarge",
    "vcpuNum": 36
   },
   {
    "_defaultOrder": 26,
    "_isFastLaunch": false,
    "category": "Compute optimized",
    "gpuNum": 0,
    "hideHardwareSpecs": false,
    "memoryGiB": 96,
    "name": "ml.c5.12xlarge",
    "vcpuNum": 48
   },
   {
    "_defaultOrder": 27,
    "_isFastLaunch": false,
    "category": "Compute optimized",
    "gpuNum": 0,
    "hideHardwareSpecs": false,
    "memoryGiB": 144,
    "name": "ml.c5.18xlarge",
    "vcpuNum": 72
   },
   {
    "_defaultOrder": 28,
    "_isFastLaunch": false,
    "category": "Compute optimized",
    "gpuNum": 0,
    "hideHardwareSpecs": false,
    "memoryGiB": 192,
    "name": "ml.c5.24xlarge",
    "vcpuNum": 96
   },
   {
    "_defaultOrder": 29,
    "_isFastLaunch": true,
    "category": "Accelerated computing",
    "gpuNum": 1,
    "hideHardwareSpecs": false,
    "memoryGiB": 16,
    "name": "ml.g4dn.xlarge",
    "vcpuNum": 4
   },
   {
    "_defaultOrder": 30,
    "_isFastLaunch": false,
    "category": "Accelerated computing",
    "gpuNum": 1,
    "hideHardwareSpecs": false,
    "memoryGiB": 32,
    "name": "ml.g4dn.2xlarge",
    "vcpuNum": 8
   },
   {
    "_defaultOrder": 31,
    "_isFastLaunch": false,
    "category": "Accelerated computing",
    "gpuNum": 1,
    "hideHardwareSpecs": false,
    "memoryGiB": 64,
    "name": "ml.g4dn.4xlarge",
    "vcpuNum": 16
   },
   {
    "_defaultOrder": 32,
    "_isFastLaunch": false,
    "category": "Accelerated computing",
    "gpuNum": 1,
    "hideHardwareSpecs": false,
    "memoryGiB": 128,
    "name": "ml.g4dn.8xlarge",
    "vcpuNum": 32
   },
   {
    "_defaultOrder": 33,
    "_isFastLaunch": false,
    "category": "Accelerated computing",
    "gpuNum": 4,
    "hideHardwareSpecs": false,
    "memoryGiB": 192,
    "name": "ml.g4dn.12xlarge",
    "vcpuNum": 48
   },
   {
    "_defaultOrder": 34,
    "_isFastLaunch": false,
    "category": "Accelerated computing",
    "gpuNum": 1,
    "hideHardwareSpecs": false,
    "memoryGiB": 256,
    "name": "ml.g4dn.16xlarge",
    "vcpuNum": 64
   },
   {
    "_defaultOrder": 35,
    "_isFastLaunch": false,
    "category": "Accelerated computing",
    "gpuNum": 1,
    "hideHardwareSpecs": false,
    "memoryGiB": 61,
    "name": "ml.p3.2xlarge",
    "vcpuNum": 8
   },
   {
    "_defaultOrder": 36,
    "_isFastLaunch": false,
    "category": "Accelerated computing",
    "gpuNum": 4,
    "hideHardwareSpecs": false,
    "memoryGiB": 244,
    "name": "ml.p3.8xlarge",
    "vcpuNum": 32
   },
   {
    "_defaultOrder": 37,
    "_isFastLaunch": false,
    "category": "Accelerated computing",
    "gpuNum": 8,
    "hideHardwareSpecs": false,
    "memoryGiB": 488,
    "name": "ml.p3.16xlarge",
    "vcpuNum": 64
   },
   {
    "_defaultOrder": 38,
    "_isFastLaunch": false,
    "category": "Accelerated computing",
    "gpuNum": 8,
    "hideHardwareSpecs": false,
    "memoryGiB": 768,
    "name": "ml.p3dn.24xlarge",
    "vcpuNum": 96
   },
   {
    "_defaultOrder": 39,
    "_isFastLaunch": false,
    "category": "Memory Optimized",
    "gpuNum": 0,
    "hideHardwareSpecs": false,
    "memoryGiB": 16,
    "name": "ml.r5.large",
    "vcpuNum": 2
   },
   {
    "_defaultOrder": 40,
    "_isFastLaunch": false,
    "category": "Memory Optimized",
    "gpuNum": 0,
    "hideHardwareSpecs": false,
    "memoryGiB": 32,
    "name": "ml.r5.xlarge",
    "vcpuNum": 4
   },
   {
    "_defaultOrder": 41,
    "_isFastLaunch": false,
    "category": "Memory Optimized",
    "gpuNum": 0,
    "hideHardwareSpecs": false,
    "memoryGiB": 64,
    "name": "ml.r5.2xlarge",
    "vcpuNum": 8
   },
   {
    "_defaultOrder": 42,
    "_isFastLaunch": false,
    "category": "Memory Optimized",
    "gpuNum": 0,
    "hideHardwareSpecs": false,
    "memoryGiB": 128,
    "name": "ml.r5.4xlarge",
    "vcpuNum": 16
   },
   {
    "_defaultOrder": 43,
    "_isFastLaunch": false,
    "category": "Memory Optimized",
    "gpuNum": 0,
    "hideHardwareSpecs": false,
    "memoryGiB": 256,
    "name": "ml.r5.8xlarge",
    "vcpuNum": 32
   },
   {
    "_defaultOrder": 44,
    "_isFastLaunch": false,
    "category": "Memory Optimized",
    "gpuNum": 0,
    "hideHardwareSpecs": false,
    "memoryGiB": 384,
    "name": "ml.r5.12xlarge",
    "vcpuNum": 48
   },
   {
    "_defaultOrder": 45,
    "_isFastLaunch": false,
    "category": "Memory Optimized",
    "gpuNum": 0,
    "hideHardwareSpecs": false,
    "memoryGiB": 512,
    "name": "ml.r5.16xlarge",
    "vcpuNum": 64
   },
   {
    "_defaultOrder": 46,
    "_isFastLaunch": false,
    "category": "Memory Optimized",
    "gpuNum": 0,
    "hideHardwareSpecs": false,
    "memoryGiB": 768,
    "name": "ml.r5.24xlarge",
    "vcpuNum": 96
   },
   {
    "_defaultOrder": 47,
    "_isFastLaunch": false,
    "category": "Accelerated computing",
    "gpuNum": 1,
    "hideHardwareSpecs": false,
    "memoryGiB": 16,
    "name": "ml.g5.xlarge",
    "vcpuNum": 4
   },
   {
    "_defaultOrder": 48,
    "_isFastLaunch": false,
    "category": "Accelerated computing",
    "gpuNum": 1,
    "hideHardwareSpecs": false,
    "memoryGiB": 32,
    "name": "ml.g5.2xlarge",
    "vcpuNum": 8
   },
   {
    "_defaultOrder": 49,
    "_isFastLaunch": false,
    "category": "Accelerated computing",
    "gpuNum": 1,
    "hideHardwareSpecs": false,
    "memoryGiB": 64,
    "name": "ml.g5.4xlarge",
    "vcpuNum": 16
   },
   {
    "_defaultOrder": 50,
    "_isFastLaunch": false,
    "category": "Accelerated computing",
    "gpuNum": 1,
    "hideHardwareSpecs": false,
    "memoryGiB": 128,
    "name": "ml.g5.8xlarge",
    "vcpuNum": 32
   },
   {
    "_defaultOrder": 51,
    "_isFastLaunch": false,
    "category": "Accelerated computing",
    "gpuNum": 1,
    "hideHardwareSpecs": false,
    "memoryGiB": 256,
    "name": "ml.g5.16xlarge",
    "vcpuNum": 64
   },
   {
    "_defaultOrder": 52,
    "_isFastLaunch": false,
    "category": "Accelerated computing",
    "gpuNum": 4,
    "hideHardwareSpecs": false,
    "memoryGiB": 192,
    "name": "ml.g5.12xlarge",
    "vcpuNum": 48
   },
   {
    "_defaultOrder": 53,
    "_isFastLaunch": false,
    "category": "Accelerated computing",
    "gpuNum": 4,
    "hideHardwareSpecs": false,
    "memoryGiB": 384,
    "name": "ml.g5.24xlarge",
    "vcpuNum": 96
   },
   {
    "_defaultOrder": 54,
    "_isFastLaunch": false,
    "category": "Accelerated computing",
    "gpuNum": 8,
    "hideHardwareSpecs": false,
    "memoryGiB": 768,
    "name": "ml.g5.48xlarge",
    "vcpuNum": 192
   },
   {
    "_defaultOrder": 55,
    "_isFastLaunch": false,
    "category": "Accelerated computing",
    "gpuNum": 8,
    "hideHardwareSpecs": false,
    "memoryGiB": 1152,
    "name": "ml.p4d.24xlarge",
    "vcpuNum": 96
   },
   {
    "_defaultOrder": 56,
    "_isFastLaunch": false,
    "category": "Accelerated computing",
    "gpuNum": 8,
    "hideHardwareSpecs": false,
    "memoryGiB": 1152,
    "name": "ml.p4de.24xlarge",
    "vcpuNum": 96
   }
  ],
  "instance_type": "ml.t3.medium",
  "kernelspec": {
   "display_name": "Python 3 (Data Science)",
   "language": "python",
   "name": "python3__SAGEMAKER_INTERNAL__arn:aws:sagemaker:us-east-2:429704687514:image/datascience-1.0"
  },
  "language_info": {
   "codemirror_mode": {
    "name": "ipython",
    "version": 3
   },
   "file_extension": ".py",
   "mimetype": "text/x-python",
   "name": "python",
   "nbconvert_exporter": "python",
   "pygments_lexer": "ipython3",
   "version": "3.7.10"
  }
 },
 "nbformat": 4,
 "nbformat_minor": 5
}
